{
 "cells": [
  {
   "cell_type": "code",
   "execution_count": null,
   "id": "9e3d4c38",
   "metadata": {},
   "outputs": [],
   "source": [
    "%pip install catboost==1.0.5\n",
    "%pip install category-encoders==2.6.1\n",
    "%pip install scikit-learn==0.22.1\n",
    "%pip install scipy==1.4.1\n",
    "%pip install statsmodels==0.11.1\n",
    "%pip install tqdm==4.46.1\n",
    "%pip install xgboost==1.1.1\n",
    "%pip install pulp==2.5.1"
   ]
  },
  {
   "cell_type": "code",
   "execution_count": null,
   "id": "38d59231",
   "metadata": {},
   "outputs": [],
   "source": [
    "from analytics import *\n",
    "import pandas as pd\n",
    "import os"
   ]
  },
  {
   "cell_type": "markdown",
   "id": "4eb6f77a",
   "metadata": {},
   "source": [
    "#### Converting YAML files to CSV"
   ]
  },
  {
   "cell_type": "code",
   "execution_count": null,
   "id": "23e8f8ab",
   "metadata": {},
   "outputs": [],
   "source": [
    "directory = <PATH OF YAML FILES>\n",
    "odir = <PATH OF OUTPUT DIRECTORY>\n",
    "convertAllYaml2PandasDataframesT20(directory,odir)"
   ]
  },
  {
   "cell_type": "markdown",
   "id": "060f8f1f",
   "metadata": {},
   "source": [
    "#### Converting CSV files to each team battingdetails.csv and bowlingdetails.csv"
   ]
  },
  {
   "cell_type": "code",
   "execution_count": null,
   "id": "96b63fe2",
   "metadata": {},
   "outputs": [],
   "source": [
    "iplTeams = [\"Chennai Super Kings\",\"Deccan Chargers\",\"Delhi Daredevils\",\n",
    "            \"Kings XI Punjab\", 'Kochi Tuskers Kerala',\"Kolkata Knight Riders\",\n",
    "            \"Mumbai Indians\", \"Pune Warriors\",\"Rajasthan Royals\",\n",
    "            \"Royal Challengers Bangalore\",\"Sunrisers Hyderabad\",\"Gujarat Lions\",\n",
    "            \"Rising Pune Supergiants\",\"Gujarat Titans\",\"Lucknow Supergiants\"]\n",
    "\n",
    "directory = <PATH OF CSV FILES>\n",
    "odir_bat = <PATH OF OUTPUT DIRECTORY>\n",
    "odir_bowl = <PATH OF OUTPUT DIRECTORY>\n",
    "\n",
    "for team in iplTeams:\n",
    "    getTeamBattingDetails(team, dir=directory, save=True, odir=odir_bat)\n",
    "    getTeamBowlingDetails(team, dir=directory, save=True, odir=odir_bowl)"
   ]
  },
  {
   "cell_type": "markdown",
   "id": "22674d94",
   "metadata": {},
   "source": [
    "#### Dream 11 points calculation for batsman"
   ]
  },
  {
   "cell_type": "code",
   "execution_count": null,
   "id": "b83a6ff3",
   "metadata": {},
   "outputs": [],
   "source": [
    "def calculate_points(row):\n",
    "    total_points = 0\n",
    "    runs = row['runs']\n",
    "    balls_faced = row['balls']\n",
    "    fours = row['4s']\n",
    "    sixes = row['6s']\n",
    "    strike_rate = row['SR']\n",
    "\n",
    "    # Run points\n",
    "    total_points += runs\n",
    "\n",
    "    # Boundary Bonus\n",
    "    total_points += fours\n",
    "\n",
    "    # Six Bonus\n",
    "    total_points += 2 * sixes\n",
    "\n",
    "    # 30 Run Bonus\n",
    "    if 30 <= runs < 50:\n",
    "        total_points += 4\n",
    "        row['30s'] = 1\n",
    "    else:\n",
    "        row['30s'] = 0\n",
    "\n",
    "    # Half-Century Bonus\n",
    "    if 50 <= runs < 100:\n",
    "        total_points += 8\n",
    "        row['50s'] = 1\n",
    "    else:\n",
    "        row['50s'] = 0\n",
    "    \n",
    "    # Century Bonus\n",
    "    if runs >= 100:\n",
    "        total_points += 16\n",
    "        row['100s'] = 1\n",
    "    else:\n",
    "        row['100s'] = 0\n",
    "        \n",
    "    # Duck Dismissal Penalty\n",
    "    if runs == 0:\n",
    "        total_points -= 2\n",
    "        row['0s'] = 1\n",
    "    else:\n",
    "        row['0s'] = 0\n",
    "\n",
    "    # Strike Rate Bonus\n",
    "    if balls_faced > 0 and runs > 0:\n",
    "        sr = runs / balls_faced * 100\n",
    "        if sr >= 170:\n",
    "            total_points += 6\n",
    "        elif 150.01 <= sr <= 170:\n",
    "            total_points += 4\n",
    "        elif 130 <= sr <= 150:\n",
    "            total_points += 2\n",
    "        elif 70 <= sr <= 130:\n",
    "            total_points += 0\n",
    "        elif 70 >= sr > 60:\n",
    "            total_points -= 2\n",
    "        elif 60 > sr >= 50:\n",
    "            total_points -= 4\n",
    "        else:\n",
    "            total_points -= 6\n",
    "\n",
    "    # Return total points with an additional 4 points\n",
    "    return total_points + 4\n",
    "\n",
    "def calculate_dream11_points_for_batsmen(source_dir, dest_dir):\n",
    "    \"\"\"\n",
    "    Calculate Dream 11 points for all CSV files in the source directory\n",
    "    and save the updated files to the destination directory with the same name.\n",
    "    \"\"\"\n",
    "    for filename in os.listdir(source_dir):\n",
    "        if filename.endswith('.csv'):\n",
    "            \n",
    "            file_path = os.path.join(source_dir, filename)\n",
    "            team1 = filename.split('-')[0]\n",
    "            df = pd.read_csv(file_path)\n",
    "\n",
    "            # Initialize new columns to 0\n",
    "            df[\"team1\"] = team1\n",
    "            df['MF'] = 'IPL'\n",
    "            df['30s'] = 0\n",
    "            df['50s'] = 0\n",
    "            df['100s'] = 0\n",
    "            df['0s'] = 0\n",
    "            \n",
    "\n",
    "            df['d11'] = df.apply(calculate_points, axis=1)\n",
    "\n",
    "            # Update new columns based on runs scored\n",
    "            df.loc[(df['runs'] >= 30) & (df['runs'] < 50), '30s'] = 1\n",
    "            df.loc[(df['runs'] >= 50) & (df['runs'] < 100), '50s'] = 1\n",
    "            df.loc[df['runs'] >= 100, '100s'] = 1\n",
    "            df.loc[df['runs'] == 0, '0s'] = 1\n",
    "\n",
    "            new_file_path = os.path.join(dest_dir, filename)\n",
    "            df.to_csv(new_file_path, index=False)"
   ]
  },
  {
   "cell_type": "markdown",
   "id": "df9dbd23",
   "metadata": {},
   "source": [
    "#### Feature Engineering Dream 11 points to batting.csv"
   ]
  },
  {
   "cell_type": "code",
   "execution_count": null,
   "id": "63bef3c5",
   "metadata": {},
   "outputs": [],
   "source": [
    "source_dir = <PATH OF SOURCE DIRECTORY>\n",
    "dest_dir = <PATH OF DESTINATION DIRECTORY>\n",
    "calculate_dream11_points_for_batsmen(source_dir, dest_dir)"
   ]
  },
  {
   "cell_type": "markdown",
   "id": "d1a6c488",
   "metadata": {},
   "source": [
    "#### Adding all the batting csv files into one csv file"
   ]
  },
  {
   "cell_type": "code",
   "execution_count": null,
   "id": "04f21577",
   "metadata": {},
   "outputs": [],
   "source": [
    "# Set the directory path where the CSV files are located\n",
    "directory = <>\n",
    "\n",
    "# Initialize an empty dictionary to store the data frames\n",
    "dfs = {}\n",
    "\n",
    "# Loop through all the files in the directory\n",
    "for filename in os.listdir(directory):\n",
    "    if filename.endswith(\".csv\"):\n",
    "        # Read the CSV file into a pandas data frame\n",
    "        filepath = os.path.join(directory, filename)\n",
    "        df = pd.read_csv(filepath)\n",
    "        df = df.iloc[:, 1:]\n",
    "        # Loop through all the columns in the data frame\n",
    "        for col in df.columns:\n",
    "            # If the column is already in the dictionary, append the values to the existing list\n",
    "            if col in dfs:\n",
    "                dfs[col].extend(list(df[col]))\n",
    "            # Otherwise, add the column and its values to the dictionary\n",
    "            else:\n",
    "                dfs[col] = list(df[col])\n",
    "\n",
    "# Convert the dictionary to a data frame\n",
    "result = pd.DataFrame(dfs)\n",
    "\n",
    "# Write the concatenated data frame to a CSV file\n",
    "result.to_csv(<OUTPUT PATH>, index=False)"
   ]
  },
  {
   "cell_type": "markdown",
   "id": "bf7319a5",
   "metadata": {},
   "source": [
    "#### Dream 11 points calculation for bowler"
   ]
  },
  {
   "cell_type": "code",
   "execution_count": null,
   "id": "a3f29e99",
   "metadata": {},
   "outputs": [],
   "source": [
    "def calculate_bowling_points(row):\n",
    "    total_points = 0\n",
    "    wickets = row['wicket']\n",
    "    if wickets > 0:\n",
    "        total_points += 25\n",
    "    if wickets >= 3 and wickets < 4:\n",
    "        total_points += 4\n",
    "        row['3_wicket_haul'] = 1\n",
    "        row['4_wicket_haul'] = 0\n",
    "        row['5_wicket_haul'] = 0\n",
    "    elif wickets >= 4 and wickets < 5:\n",
    "        total_points += 8\n",
    "        row['3_wicket_haul'] = 0\n",
    "        row['4_wicket_haul'] = 1\n",
    "        row['5_wicket_haul'] = 0\n",
    "    elif wickets >= 5:\n",
    "        total_points += 16\n",
    "        row['3_wicket_haul'] = 0\n",
    "        row['4_wicket_haul'] = 0\n",
    "        row['5_wicket_haul'] = 1\n",
    "    else:\n",
    "        row['3_wicket_haul'] = 0\n",
    "        row['4_wicket_haul'] = 0\n",
    "        row['5_wicket_haul'] = 0\n",
    "    maiden_overs = row['maidens']\n",
    "    if maiden_overs > 0:\n",
    "        total_points += 12\n",
    "    return total_points\n",
    "\n",
    "def calculate_dream11_points_for_bowlers(source_dir, dest_dir):\n",
    "    \"\"\"\n",
    "    Calculate Dream 11 points for all CSV files in the source directory\n",
    "    and save the updated files to the destination directory with the same name.\n",
    "    \"\"\"\n",
    "    for filename in os.listdir(source_dir):\n",
    "        if filename.endswith('.csv'):\n",
    "            team1 = filename.split('-')[0]\n",
    "            file_path = os.path.join(source_dir, filename)\n",
    "            df = pd.read_csv(file_path)\n",
    "            df[\"team1\"] = team1\n",
    "            df['MF'] = 'IPL'\n",
    "            df['3_wicket_haul'] = 0\n",
    "            df['4_wicket_haul'] = 0\n",
    "            df['5_wicket_haul'] = 0\n",
    "            df['d11'] = df.apply(calculate_bowling_points, axis=1)\n",
    "            df.loc[df['wicket'] >= 3, '3_wicket_haul'] = df.apply(lambda row: 1 if row['wicket'] >= 3 and row['wicket'] < 4 else 0, axis=1)\n",
    "            df.loc[df['wicket'] >= 4, '4_wicket_haul'] = df.apply(lambda row: 1 if row['wicket'] >= 4 and row['wicket'] < 5 else 0, axis=1)\n",
    "            df.loc[df['wicket'] >= 5, '5_wicket_haul'] = df.apply(lambda row: 1 if row['wicket'] >= 5 else 0, axis=1)\n",
    "            new_file_path = os.path.join(dest_dir, filename)\n",
    "            df.to_csv(new_file_path, index=False)\n"
   ]
  },
  {
   "cell_type": "markdown",
   "id": "b3d6073f",
   "metadata": {},
   "source": [
    "#### Feature Engineering Dream 11 points for bowling.csv"
   ]
  },
  {
   "cell_type": "code",
   "execution_count": null,
   "id": "e765594a",
   "metadata": {},
   "outputs": [],
   "source": [
    "source_dir = <PATH OF SOURCE DIRECTORY>\n",
    "dest_dir = <PATH OF DESTINATION DIRECTORY>\n",
    "calculate_dream11_points_for_bowlers(source_dir, dest_dir)"
   ]
  },
  {
   "cell_type": "markdown",
   "id": "17e13bef",
   "metadata": {},
   "source": [
    "#### Adding all the bowling csv files into one csv file"
   ]
  },
  {
   "cell_type": "code",
   "execution_count": null,
   "id": "b3234342",
   "metadata": {},
   "outputs": [],
   "source": [
    "# Set the directory path where the CSV files are located\n",
    "directory = <>\n",
    "\n",
    "# Initialize an empty dictionary to store the data frames\n",
    "dfs = {}\n",
    "\n",
    "# Loop through all the files in the directory\n",
    "for filename in os.listdir(directory):\n",
    "    if filename.endswith(\".csv\"):\n",
    "        # Read the CSV file into a pandas data frame\n",
    "        filepath = os.path.join(directory, filename)\n",
    "        df = pd.read_csv(filepath)\n",
    "        # Loop through all the columns in the data frame\n",
    "        for col in df.columns:\n",
    "            # If the column is already in the dictionary, append the values to the existing list\n",
    "            if col in dfs:\n",
    "                dfs[col].extend(list(df[col]))\n",
    "            # Otherwise, add the column and its values to the dictionary\n",
    "            else:\n",
    "                dfs[col] = list(df[col])\n",
    "\n",
    "# Convert the dictionary to a data frame\n",
    "result = pd.DataFrame(dfs)\n",
    "\n",
    "# Write the concatenated data frame to a CSV file\n",
    "result.to_csv(<OUTPUT PATH>, index=False)"
   ]
  }
 ],
 "metadata": {
  "kernelspec": {
   "display_name": "Python 3 (ipykernel)",
   "language": "python",
   "name": "python3"
  },
  "language_info": {
   "codemirror_mode": {
    "name": "ipython",
    "version": 3
   },
   "file_extension": ".py",
   "mimetype": "text/x-python",
   "name": "python",
   "nbconvert_exporter": "python",
   "pygments_lexer": "ipython3",
   "version": "3.10.12"
  }
 },
 "nbformat": 4,
 "nbformat_minor": 5
}
